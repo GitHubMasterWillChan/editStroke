{
 "cells": [
  {
   "attachments": {},
   "cell_type": "markdown",
   "metadata": {},
   "source": [
    "https://chromedriver.chromium.org/downloads"
   ]
  },
  {
   "cell_type": "code",
   "execution_count": null,
   "metadata": {},
   "outputs": [],
   "source": [
    "#第一次run\n",
    "%pip install ipywidgets\n",
    "%pip install IPython\n",
    "%pip install selenium"
   ]
  },
  {
   "cell_type": "code",
   "execution_count": 1,
   "metadata": {},
   "outputs": [],
   "source": [
    "import ipywidgets as widgets\n",
    "from IPython.display import display\n",
    "import os, re, shutil\n",
    "\n",
    "from selenium import webdriver\n",
    "from selenium.webdriver.support.ui import WebDriverWait, Select\n",
    "from selenium.webdriver.support import expected_conditions as EC\n",
    "from selenium.webdriver.common.by import By\n",
    "from selenium.webdriver.common.keys import Keys\n",
    "\n",
    "import pyperclip\n",
    "\n",
    "from xml.dom import minidom\n",
    "\n",
    "# driver = webdriver.Chrome()\n",
    "# driver = webdriver.Firefox()\n",
    "url = \"https://yqnn.github.io/svg-path-editor/\"\n",
    "\n",
    "# driver.get(url)"
   ]
  },
  {
   "cell_type": "code",
   "execution_count": 13,
   "metadata": {},
   "outputs": [],
   "source": [
    "\n",
    "BASE_PATH = '/Users/willchan/Desktop/HTW/missingStroke/toDo20230921/3forTest/'\n",
    "TARGET_PATH = '/Users/willchan/Desktop/HTW/missingStroke/toDo20230921/' + 'TO_GAEL/'\n",
    "base_path = BASE_PATH\n",
    "file_no = \"\"\n",
    "org_file = []\n",
    "stroke_no = 0\n",
    "last_stroke = \"\"\n",
    "cur_stroke = \"\"\n",
    "next_stroke = \"\"\n",
    "paste_flag = False\n",
    "# input_order = widgets.Text()\n",
    "# display(input_order)\n",
    "\n",
    "pre = f\"{file_no}_\"\n",
    "\n",
    "# new_folder_location = \"/Users/willchan/Desktop\" #想擺邊\n",
    "# new_order_folder = '/Users/willchan/Desktop/batch_1_regen_shape/shape_fixed/'\n",
    "\n",
    "try:\n",
    "    os.mkdir(TARGET_PATH)\n",
    "except:\n",
    "    pass\n",
    "\n",
    "def extend(input_list: str):\n",
    "    split_string = input_list.split()\n",
    "    temp_list = []\n",
    "\n",
    "    for substring in split_string:\n",
    "        if '-' in substring:\n",
    "            substring_split = substring.split('-')\n",
    "            start = int(substring_split[0])\n",
    "            end = int(substring_split[1])\n",
    "            temp_list.extend(range(start, end+1))\n",
    "        else:\n",
    "            temp_list.append(int(substring))\n",
    "    \n",
    "    return temp_list  \n",
    "\n",
    "\n",
    "def copy_stroke_svg(s):\n",
    "    # global file_no, base_path, org_file, stroke_no\n",
    "    base_path = BASE_PATH\n",
    "    file_no = \"\"\n",
    "    org_file = []\n",
    "    stroke_no = 0\n",
    "\n",
    "    # print(s)\n",
    "    temp = s.split()\n",
    "    \n",
    "    file_no = temp[0]\n",
    "    stroke_no = int(temp[1])\n",
    "    \n",
    "    base_path += file_no\n",
    "    # print(base_path)\n",
    "    for root, dirs, files in os.walk(base_path):\n",
    "        for file in files:\n",
    "            if file == \".DS_Store\" or 'trace' in file or 'turn' in file:\n",
    "                continue\n",
    "            org_file.append(file)\n",
    "    org_file = sorted(org_file, key=lambda x:int(x.split(\"_\")[1]))\n",
    "    # print(org_file)\n",
    "   \n",
    "    pyperclip.copy(get_svg_path(org_file[stroke_no]))\n",
    "    \n",
    "def reset():\n",
    "    global new_folder_location, base_path, file_no, org_file, pre\n",
    "    new_order_folder = TARGET_PATH\n",
    "\n",
    "    base_path = BASE_PATH\n",
    "    file_no = \"\"\n",
    "    org_file = []\n",
    "    pre = f\"{file_no}_\"\n",
    "\n",
    "    input_folder_number.value = \"\"\n",
    "    input_duplicate_target_stroke.value = \"\"\n",
    "\n",
    "    \n",
    "\n",
    "def fix_svg(sender):\n",
    "    global file_no, base_path, org_file, stroke_no, TARGET_PATH\n",
    "    org_file = []\n",
    "    # print(sender.value)\n",
    "\n",
    "\n",
    "    # temp = sender.value.split()\n",
    "    \n",
    "    # file_no = temp[0]\n",
    "    # stroke_no = int(temp[1])\n",
    "    stroke_no = int(sender.value)\n",
    "    \n",
    "    base_path = os.path.join(TARGET_PATH,file_no) \n",
    "    print('base path:',base_path)\n",
    "    for root, dirs, files in os.walk(base_path):\n",
    "        for file in files:\n",
    "            if file == \".DS_Store\" or 'trace' in file or 'turn' in file:\n",
    "                continue\n",
    "            org_file.append(file)\n",
    "    org_file = sorted(org_file, key=lambda x:int(x.split(\"_\")[1]))\n",
    "    # print(org_file)\n",
    "\n",
    "    send_svg(get_svg_path(org_file[stroke_no]))\n",
    "    # reset()\n",
    "\n",
    "def get_file_number(sender) -> int:\n",
    "    global file_no\n",
    "    \n",
    "    file_no = sender.value\n",
    "    print('file no:', file_no)\n",
    "\n",
    "def new_order(sender):\n",
    "    global new_order_folder\n",
    "    # order = sender.value.split(\" \")\n",
    "    order = extend(sender.value)\n",
    "    # print(\"order\" , order) \n",
    "    l = len(order)\n",
    "    if l != len(org_file):\n",
    "        raise Exception(\"Length Not match\")\n",
    "    \n",
    "    # for i in range(l):\n",
    "    #     if not order[i].isdigit():\n",
    "    #         raise Exception(f\"{order[i]} not a digit\")\n",
    "    #     if str(i) not in order:\n",
    "    #         # print(i)\n",
    "    #         raise Exception(f\"{i} not in the list\")\n",
    "\n",
    "    os.mkdir(os.path.join(new_order_folder, file_no))\n",
    "\n",
    "    for i in range(len(org_file)):\n",
    "        # if order[i] == '-':\n",
    "        #     continue\n",
    "        suffix = (re.search(r'_[A-Z](.*)', org_file[i])).group()\n",
    "        org_path = f'{base_path}/{org_file[int(order[i])]}'\n",
    "        # print(order[i])\n",
    "        target_path = f'{new_order_folder}/{file_no}/{file_no}_{i}{suffix}' #TODO\n",
    "\n",
    "        # print(org_path)\n",
    "        shutil.copyfile(org_path, target_path)\n",
    "        \n",
    "    # print(\"done\")\n",
    "    reset()\n",
    "\n",
    "def duplicate_stroke(sender):\n",
    "    global file_no, TARGET_PATH, base_path, org_file\n",
    "\n",
    "    #strokeNo, orgStrokeName, NewStrokeName\n",
    "    temp = sender.value.split()\n",
    "    strokeNo = temp[0]\n",
    "    if len(temp) > 1:\n",
    "        orgStrokeName = temp[1].upper()\n",
    "        NewStrokeName = temp[2].upper()\n",
    "\n",
    "    base_path += file_no\n",
    "    for root, dirs, files in os.walk(base_path):\n",
    "        for file in files:\n",
    "            if file == \".DS_Store\" or 'trace' in file or 'turn' in file:\n",
    "                continue\n",
    "            org_file.append(file)\n",
    "    org_file = sorted(org_file, key=lambda x:int(x.split(\"_\")[1]))\n",
    "    target_path = os.path.join(TARGET_PATH, file_no)\n",
    "    os.mkdir(target_path)\n",
    "    strokeNo = len(org_file) if strokeNo == '-1' else strokeNo\n",
    "\n",
    "    for i in range(int(strokeNo)):\n",
    "        shutil.copyfile(os.path.join(base_path, org_file[i]), os.path.join(target_path, org_file[i]))\n",
    "\n",
    "    shutil.copyfile(os.path.join(base_path, f'{file_no}_trace.svg'), os.path.join(target_path, f'{file_no}_trace.svg'))\n",
    "    shutil.copyfile(os.path.join(base_path, f'{file_no}_turn.svg'), os.path.join(target_path, f'{file_no}_turn.svg'))\n",
    "\n",
    "    if strokeNo == len(org_file):\n",
    "        return\n",
    "\n",
    "    shutil.copyfile(os.path.join(base_path, org_file[int(strokeNo)]), os.path.join(target_path, f'{file_no}_{int(strokeNo)}_{orgStrokeName}.svg'))\n",
    "    shutil.copyfile(os.path.join(base_path, org_file[int(strokeNo)]), os.path.join(target_path, f'{file_no}_{int(strokeNo) + 1}_{NewStrokeName}.svg'))\n",
    "\n",
    "    for i in range(int(strokeNo)+1, len(org_file)):\n",
    "        suffix = (re.search(r'_[A-Z](.*)', org_file[i])).group()\n",
    "        shutil.copyfile(os.path.join(base_path, org_file[i]), os.path.join(target_path, f'{file_no}_{i + 1}{suffix}'))\n",
    "\n",
    "\n",
    "\n",
    "    print('done')\n",
    "\n",
    "\n",
    "def wait_send(by, path, send):\n",
    "    WebDriverWait(driver, 180).until(EC.presence_of_element_located((by, path)))\n",
    "    driver.find_element(by, path).send_keys(send)\n",
    "\n",
    "def send_svg(svg: str):\n",
    "    WebDriverWait(driver, 180).until(EC.presence_of_element_located((By.CSS_SELECTOR,\"textarea\")))\n",
    "    driver.find_element(By.CSS_SELECTOR,\"textarea\").clear()\n",
    "    wait_send(By.CSS_SELECTOR,\"textarea\", svg)\n",
    "    # driver.execute_script(\"document.querySelector('.drawings.ng-tns-c94-0').style.transform='rotateX(180deg)'\")\n",
    "\n",
    "def get_svg_path(file):\n",
    "    path = f\"{base_path}/{file}\"\n",
    "\n",
    "    doc = minidom.parse(path)  # parseString also exists\n",
    "    # print(doc.getElementsByTagName(\"ns0:path\"))\n",
    "    path_strings = [path.getAttribute('d') for path\n",
    "                    in doc.getElementsByTagName('ns0:path')]\n",
    "    doc.unlink()\n",
    "    return (re.sub(r'([A-Y])', r'\\1 ', re.sub(r'(\\d{3})(Q\\d{3})', r'\\1 \\2' ,path_strings[0])))\n",
    "\n",
    "def copy_stroke_svg(s):\n",
    "    # global file_no, base_path, org_file, stroke_no\n",
    "    # reset()\n",
    "    base_path = BASE_PATH\n",
    "    file_no = \"\"\n",
    "    org_file = []\n",
    "    stroke_no = 0\n",
    "\n",
    "    print(s)\n",
    "    temp = s.split()\n",
    "    \n",
    "    file_no = temp[0]\n",
    "    \n",
    "    base_path += file_no\n",
    "    print(base_path)\n",
    "    for root, dirs, files in os.walk(base_path):\n",
    "        for file in files:\n",
    "            if file == \".DS_Store\" or 'trace' in file or 'turn' in file:\n",
    "                continue\n",
    "            org_file.append(file)\n",
    "    org_file = sorted(org_file, key=lambda x:int(x.split(\"_\")[1]))\n",
    "    print(org_file)\n",
    "    stroke_no = [x for x in range(len(org_file))] if len(temp)== 1 else extend(temp[1])\n",
    "    \n",
    "    abc = ''\n",
    "\n",
    "    for no in stroke_no:\n",
    "        abc += get_svg_path(org_file[no])\n",
    "    \n",
    "    pyperclip.copy(abc)\n",
    "\n",
    "# input_folder.on_submit(fix_svg)\n",
    "\n",
    "# input_order.on_submit(new_order)\n",
    "\n"
   ]
  },
  {
   "cell_type": "markdown",
   "metadata": {},
   "source": [
    "<h1><strong>複製筆畫</strong></h1>"
   ]
  },
  {
   "cell_type": "code",
   "execution_count": 15,
   "metadata": {},
   "outputs": [
    {
     "data": {
      "application/vnd.jupyter.widget-view+json": {
       "model_id": "3aa612dba5d9430a82a89f84bb049ed5",
       "version_major": 2,
       "version_minor": 0
      },
      "text/plain": [
       "Text(value='')"
      ]
     },
     "metadata": {},
     "output_type": "display_data"
    },
    {
     "data": {
      "application/vnd.jupyter.widget-view+json": {
       "model_id": "72d748a5cfa948a69fff0599498ae6ed",
       "version_major": 2,
       "version_minor": 0
      },
      "text/plain": [
       "Text(value='')"
      ]
     },
     "metadata": {},
     "output_type": "display_data"
    },
    {
     "name": "stderr",
     "output_type": "stream",
     "text": [
      "/var/folders/y7/ytwy5wl55bs956vg5hlz1n1r0000gn/T/ipykernel_20139/2179293542.py:9: DeprecationWarning: on_submit is deprecated. Instead, set the .continuous_update attribute to False and observe the value changing with: mywidget.observe(callback, 'value').\n",
      "  input_folder_number.on_submit(get_file_number)\n",
      "/var/folders/y7/ytwy5wl55bs956vg5hlz1n1r0000gn/T/ipykernel_20139/2179293542.py:10: DeprecationWarning: on_submit is deprecated. Instead, set the .continuous_update attribute to False and observe the value changing with: mywidget.observe(callback, 'value').\n",
      "  input_duplicate_target_stroke.on_submit(duplicate_stroke)\n"
     ]
    },
    {
     "name": "stdout",
     "output_type": "stream",
     "text": [
      "file no: 39425\n"
     ]
    }
   ],
   "source": [
    "#第一格 file number e.g. 39489\n",
    "#第二格 複製邊一筆 e.g. 14 s hzg\n",
    "\n",
    "input_folder_number = widgets.Text()\n",
    "input_duplicate_target_stroke = widgets.Text()\n",
    "display(input_folder_number)\n",
    "display(input_duplicate_target_stroke)\n",
    "\n",
    "input_folder_number.on_submit(get_file_number)\n",
    "input_duplicate_target_stroke.on_submit(duplicate_stroke)"
   ]
  },
  {
   "cell_type": "markdown",
   "metadata": {},
   "source": [
    "<h1><strong>改SVG</strong></h1>"
   ]
  },
  {
   "cell_type": "code",
   "execution_count": null,
   "metadata": {},
   "outputs": [],
   "source": [
    "#開browser\n",
    "\n",
    "driver = webdriver.Chrome()\n",
    "# driver = webdriver.Firefox()\n",
    "url = \"https://yqnn.github.io/svg-path-editor/\"\n",
    "driver.get(url)\n"
   ]
  },
  {
   "cell_type": "code",
   "execution_count": null,
   "metadata": {},
   "outputs": [],
   "source": [
    "#改邊筆svg\n",
    "\n",
    "input_svg_stroke_no = widgets.Text()\n",
    "display(input_svg_stroke_no)\n",
    "input_svg_stroke_no.on_submit(fix_svg)\n"
   ]
  },
  {
   "cell_type": "code",
   "execution_count": 40,
   "metadata": {},
   "outputs": [
    {
     "name": "stdout",
     "output_type": "stream",
     "text": [
      "done\n"
     ]
    }
   ],
   "source": [
    "#改完run for saving\n",
    "def change_svg_path(file):\n",
    "\n",
    "    changed_path = driver.find_element(By.CSS_SELECTOR,\"textarea\").get_attribute('value')\n",
    "\n",
    "    path = f\"{base_path}/{file}\"\n",
    "\n",
    "    # doc = minidom.parse(path) \n",
    "    # # print(doc.getElementsByTagName(\"ns0:path\"))\n",
    "    # path_strings = [path.getAttribute('d') for path\n",
    "    #                 in doc.getElementsByTagName('ns0:path')]\n",
    "    # doc.unlink()\n",
    "\n",
    "    doc = minidom.parse(path)\n",
    "\n",
    "    nodes = doc.getElementsByTagName('ns0:path')\n",
    "\n",
    "    for node in nodes:\n",
    "        # 修改節點的屬性\n",
    "        node.setAttribute('d', changed_path)\n",
    "\n",
    "        # 取得節點的屬性值\n",
    "        # attribute_value = node.getAttribute('d')\n",
    "\n",
    "    with open(path, 'w') as f:\n",
    "        doc.writexml(f)\n",
    "    # temp_new_folder = new_order_folder + file_no #TODO\n",
    "    # if os.path.isdir(temp_new_folder):\n",
    "    #     shutil.rmtree(temp_new_folder)\n",
    "    # shutil.copytree(base_path ,temp_new_folder)\n",
    "\n",
    "    reset()\n",
    "    print(\"done\")\n",
    "\n",
    "change_svg_path(org_file[stroke_no])"
   ]
  },
  {
   "cell_type": "code",
   "execution_count": 45,
   "metadata": {},
   "outputs": [],
   "source": [
    "def get_specify_stroke_svg(s):\n",
    "    global TARGET_PATH\n",
    "    # reset()\n",
    "    base_path = TARGET_PATH #本身個folder係邊\n",
    "    file_no = \"\"\n",
    "    org_file = []\n",
    "    stroke_no = 0\n",
    "\n",
    "    print(s)\n",
    "    temp = s.split()\n",
    "    \n",
    "    file_no = temp[0]\n",
    "    \n",
    "    base_path += file_no\n",
    "    print(base_path)\n",
    "    for root, dirs, files in os.walk(base_path):\n",
    "        for file in files:\n",
    "            if file == \".DS_Store\" or 'trace' in file or 'turn' in file:\n",
    "                continue\n",
    "            org_file.append(file)\n",
    "    org_file = sorted(org_file, key=lambda x:int(x.split(\"_\")[1]))\n",
    "    print(org_file)\n",
    "    stroke_no = [x for x in range(len(org_file))] if len(temp)== 1 else extend(temp[1])\n",
    "    \n",
    "    abc = ''\n",
    "\n",
    "    for no in stroke_no:\n",
    "        abc += get_svg_path(org_file[no])\n",
    "    \n",
    "    pyperclip.copy(abc)"
   ]
  },
  {
   "cell_type": "code",
   "execution_count": 47,
   "metadata": {},
   "outputs": [
    {
     "data": {
      "text/plain": [
       "'/Users/willchan/Desktop/HTW/missingStroke/toDo20230921/3forTest/'"
      ]
     },
     "execution_count": 47,
     "metadata": {},
     "output_type": "execute_result"
    }
   ],
   "source": [
    "base_path"
   ]
  },
  {
   "cell_type": "code",
   "execution_count": 46,
   "metadata": {},
   "outputs": [
    {
     "name": "stdout",
     "output_type": "stream",
     "text": [
      "39489 12\n",
      "/Users/willchan/Desktop/HTW/missingStroke/toDo20230921/TO_GAEL/39489\n",
      "['39489_0_H.svg', '39489_1_S.svg', '39489_2_H.svg', '39489_3_H.svg', '39489_4_HZG.svg', '39489_5_P.svg', '39489_6_P.svg', '39489_7_H.svg', '39489_8_P.svg', '39489_9_N.svg', '39489_10_H.svg', '39489_11_H.svg', '39489_12_H.svg', '39489_13_S.svg', '39489_14_ZWG.svg', '39489_15_S.svg', '39489_16_D.svg', '39489_17_D.svg', '39489_18_D.svg', '39489_19_D.svg']\n"
     ]
    },
    {
     "ename": "FileNotFoundError",
     "evalue": "[Errno 2] No such file or directory: '/Users/willchan/Desktop/HTW/missingStroke/toDo20230921/3forTest//39489_12_H.svg'",
     "output_type": "error",
     "traceback": [
      "\u001b[0;31m---------------------------------------------------------------------------\u001b[0m",
      "\u001b[0;31mFileNotFoundError\u001b[0m                         Traceback (most recent call last)",
      "Cell \u001b[0;32mIn[46], line 1\u001b[0m\n\u001b[0;32m----> 1\u001b[0m get_specify_stroke_svg(\u001b[39m'\u001b[39;49m\u001b[39m39489 12\u001b[39;49m\u001b[39m'\u001b[39;49m)\n",
      "Cell \u001b[0;32mIn[45], line 28\u001b[0m, in \u001b[0;36mget_specify_stroke_svg\u001b[0;34m(s)\u001b[0m\n\u001b[1;32m     25\u001b[0m abc \u001b[39m=\u001b[39m \u001b[39m'\u001b[39m\u001b[39m'\u001b[39m\n\u001b[1;32m     27\u001b[0m \u001b[39mfor\u001b[39;00m no \u001b[39min\u001b[39;00m stroke_no:\n\u001b[0;32m---> 28\u001b[0m     abc \u001b[39m+\u001b[39m\u001b[39m=\u001b[39m get_svg_path(org_file[no])\n\u001b[1;32m     30\u001b[0m pyperclip\u001b[39m.\u001b[39mcopy(abc)\n",
      "Cell \u001b[0;32mIn[37], line 192\u001b[0m, in \u001b[0;36mget_svg_path\u001b[0;34m(file)\u001b[0m\n\u001b[1;32m    189\u001b[0m \u001b[39mdef\u001b[39;00m \u001b[39mget_svg_path\u001b[39m(file):\n\u001b[1;32m    190\u001b[0m     path \u001b[39m=\u001b[39m \u001b[39mf\u001b[39m\u001b[39m\"\u001b[39m\u001b[39m{\u001b[39;00mbase_path\u001b[39m}\u001b[39;00m\u001b[39m/\u001b[39m\u001b[39m{\u001b[39;00mfile\u001b[39m}\u001b[39;00m\u001b[39m\"\u001b[39m\n\u001b[0;32m--> 192\u001b[0m     doc \u001b[39m=\u001b[39m minidom\u001b[39m.\u001b[39;49mparse(path)  \u001b[39m# parseString also exists\u001b[39;00m\n\u001b[1;32m    193\u001b[0m     \u001b[39m# print(doc.getElementsByTagName(\"ns0:path\"))\u001b[39;00m\n\u001b[1;32m    194\u001b[0m     path_strings \u001b[39m=\u001b[39m [path\u001b[39m.\u001b[39mgetAttribute(\u001b[39m'\u001b[39m\u001b[39md\u001b[39m\u001b[39m'\u001b[39m) \u001b[39mfor\u001b[39;00m path\n\u001b[1;32m    195\u001b[0m                     \u001b[39min\u001b[39;00m doc\u001b[39m.\u001b[39mgetElementsByTagName(\u001b[39m'\u001b[39m\u001b[39mns0:path\u001b[39m\u001b[39m'\u001b[39m)]\n",
      "File \u001b[0;32m~/.pyenv/versions/3.11.2/lib/python3.11/xml/dom/minidom.py:1990\u001b[0m, in \u001b[0;36mparse\u001b[0;34m(file, parser, bufsize)\u001b[0m\n\u001b[1;32m   1988\u001b[0m \u001b[39mif\u001b[39;00m parser \u001b[39mis\u001b[39;00m \u001b[39mNone\u001b[39;00m \u001b[39mand\u001b[39;00m \u001b[39mnot\u001b[39;00m bufsize:\n\u001b[1;32m   1989\u001b[0m     \u001b[39mfrom\u001b[39;00m \u001b[39mxml\u001b[39;00m\u001b[39m.\u001b[39;00m\u001b[39mdom\u001b[39;00m \u001b[39mimport\u001b[39;00m expatbuilder\n\u001b[0;32m-> 1990\u001b[0m     \u001b[39mreturn\u001b[39;00m expatbuilder\u001b[39m.\u001b[39;49mparse(file)\n\u001b[1;32m   1991\u001b[0m \u001b[39melse\u001b[39;00m:\n\u001b[1;32m   1992\u001b[0m     \u001b[39mfrom\u001b[39;00m \u001b[39mxml\u001b[39;00m\u001b[39m.\u001b[39;00m\u001b[39mdom\u001b[39;00m \u001b[39mimport\u001b[39;00m pulldom\n",
      "File \u001b[0;32m~/.pyenv/versions/3.11.2/lib/python3.11/xml/dom/expatbuilder.py:910\u001b[0m, in \u001b[0;36mparse\u001b[0;34m(file, namespaces)\u001b[0m\n\u001b[1;32m    907\u001b[0m     builder \u001b[39m=\u001b[39m ExpatBuilder()\n\u001b[1;32m    909\u001b[0m \u001b[39mif\u001b[39;00m \u001b[39misinstance\u001b[39m(file, \u001b[39mstr\u001b[39m):\n\u001b[0;32m--> 910\u001b[0m     \u001b[39mwith\u001b[39;00m \u001b[39mopen\u001b[39m(file, \u001b[39m'\u001b[39m\u001b[39mrb\u001b[39m\u001b[39m'\u001b[39m) \u001b[39mas\u001b[39;00m fp:\n\u001b[1;32m    911\u001b[0m         result \u001b[39m=\u001b[39m builder\u001b[39m.\u001b[39mparseFile(fp)\n\u001b[1;32m    912\u001b[0m \u001b[39melse\u001b[39;00m:\n",
      "\u001b[0;31mFileNotFoundError\u001b[0m: [Errno 2] No such file or directory: '/Users/willchan/Desktop/HTW/missingStroke/toDo20230921/3forTest//39489_12_H.svg'"
     ]
    }
   ],
   "source": [
    "get_specify_stroke_svg('39489 12')"
   ]
  }
 ],
 "metadata": {
  "kernelspec": {
   "display_name": "Python 3",
   "language": "python",
   "name": "python3"
  },
  "language_info": {
   "codemirror_mode": {
    "name": "ipython",
    "version": 3
   },
   "file_extension": ".py",
   "mimetype": "text/x-python",
   "name": "python",
   "nbconvert_exporter": "python",
   "pygments_lexer": "ipython3",
   "version": "3.11.2"
  },
  "orig_nbformat": 4
 },
 "nbformat": 4,
 "nbformat_minor": 2
}
